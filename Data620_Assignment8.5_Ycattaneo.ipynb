{
 "cells": [
  {
   "cell_type": "code",
   "execution_count": 29,
   "metadata": {},
   "outputs": [],
   "source": [
    "from loopwrapper import *"
   ]
  },
  {
   "cell_type": "code",
   "execution_count": 44,
   "metadata": {},
   "outputs": [
    {
     "name": "stdout",
     "output_type": "stream",
     "text": [
      "Please enter a seed of the form 'seed [number]' or a numerical value: seed 697\n",
      "Total is: 2.255105695054951 Average is: 1.1275528475274754 Count is: 2\n"
     ]
    }
   ],
   "source": [
    "#Takes in string list (generated from user input) and returns the sum and mean until it encounters \"done\" string.\n",
    "def loop_til_done(lst):\n",
    "    total = 0\n",
    "    avg = 0\n",
    "    count = []\n",
    "    for i in lst:\n",
    "        if i == 'done':\n",
    "            break\n",
    "        else:\n",
    "            try:\n",
    "                i = float(i)\n",
    "                total += i\n",
    "                count.append(i)\n",
    "            except:\n",
    "                continue\n",
    "    if len(count) == 0:\n",
    "        avg = 0\n",
    "    else:\n",
    "        avg = total / len(count)\n",
    "    print('Total is:', str(total), 'Average is:', str(avg), 'Count is:', str(len(count)))\n",
    "\n",
    "run(loop_til_done)"
   ]
  },
  {
   "cell_type": "code",
   "execution_count": 36,
   "metadata": {},
   "outputs": [
    {
     "name": "stdout",
     "output_type": "stream",
     "text": [
      "Total is: 0.0 Average is: 0.0 Count is: 1\n"
     ]
    }
   ],
   "source": [
    "lst = ['0','done', '5','done','yusuf', '2', '44', 'done', 'baseball', '55']\n",
    "total = 0\n",
    "avg = 0\n",
    "count = []\n",
    "for i in lst:\n",
    "    if i == 'done':\n",
    "        break\n",
    "    else:\n",
    "        try:\n",
    "            i = float(i)\n",
    "            total += i\n",
    "            count.append(i)\n",
    "        except:\n",
    "            continue\n",
    "if len(count) == 0:\n",
    "    avg = 0\n",
    "else:\n",
    "    avg = total / len(count)\n",
    "print('Total is:', str(total), 'Average is:', str(avg), 'Count is:', str(len(count)))\n"
   ]
  },
  {
   "cell_type": "code",
   "execution_count": null,
   "metadata": {},
   "outputs": [],
   "source": []
  }
 ],
 "metadata": {
  "kernelspec": {
   "display_name": "Python 3",
   "language": "python",
   "name": "python3"
  },
  "language_info": {
   "codemirror_mode": {
    "name": "ipython",
    "version": 3
   },
   "file_extension": ".py",
   "mimetype": "text/x-python",
   "name": "python",
   "nbconvert_exporter": "python",
   "pygments_lexer": "ipython3",
   "version": "3.7.4"
  }
 },
 "nbformat": 4,
 "nbformat_minor": 4
}
