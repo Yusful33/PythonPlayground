{
 "cells": [
  {
   "cell_type": "code",
   "execution_count": 201,
   "metadata": {},
   "outputs": [],
   "source": [
    "import csv\n",
    "import os\n",
    "from credit_wrapper import *"
   ]
  },
  {
   "cell_type": "code",
   "execution_count": 202,
   "metadata": {},
   "outputs": [
    {
     "name": "stdout",
     "output_type": "stream",
     "text": [
      "Checking transactions...\n",
      "0% remaining\n",
      "3% remaining\n",
      "6% remaining\n",
      "10% remaining\n",
      "13% remaining\n",
      "16% remaining\n",
      "19% remaining\n",
      "23% remaining\n",
      "26% remaining\n",
      "29% remaining\n",
      "32% remaining\n",
      "35% remaining\n",
      "39% remaining\n",
      "42% remaining\n",
      "45% remaining\n",
      "48% remaining\n",
      "52% remaining\n",
      "55% remaining\n",
      "58% remaining\n",
      "61% remaining\n",
      "65% remaining\n",
      "68% remaining\n",
      "71% remaining\n",
      "74% remaining\n",
      "77% remaining\n",
      "81% remaining\n",
      "84% remaining\n",
      "87% remaining\n",
      "90% remaining\n",
      "94% remaining\n",
      "97% remaining\n",
      "Done!\n"
     ]
    }
   ],
   "source": [
    "customers = [] #Customer lists of the form [Customer_ID, First_Name, Last_Name, Balance, Credit_Limit]\n",
    "transactions = [] #Transactions lists of the form [Transaction_ID, Customer_ID, Type, Amount] (if inquiry no amount)\n",
    "\n",
    "#Change these when you want to run on different .csv files!\n",
    "customer_file = 'customers_test3.csv'\n",
    "transactions_file = 'transactions_test3.csv'\n",
    "\n",
    "#For both .csv files, load the rows and transactions into lists, then append the lists to a list\n",
    "# of all customers and of all transactions.\n",
    "\n",
    "with open(customer_file) as customer_file:\n",
    "    csv_reader = csv.reader(customer_file, delimiter=',')\n",
    "    for row in csv_reader:\n",
    "        customers.append(row)\n",
    "    customers.pop(0) #This removes the title row\n",
    "\n",
    "with open(transactions_file) as transactions_file:\n",
    "    csv_reader = csv.reader(transactions_file, delimiter=',')\n",
    "    for row in csv_reader:\n",
    "        transactions.append(row)\n",
    "    transactions.pop(0)\n",
    "\n",
    "check_transactions(customers, transactions)"
   ]
  },
  {
   "cell_type": "code",
   "execution_count": 203,
   "metadata": {},
   "outputs": [],
   "source": [
    "#Tool functions\n",
    "def new_purchase(balance, credit, transaction):\n",
    "    try:\n",
    "        transaction = float(transaction)\n",
    "        credit = float(credit)\n",
    "        balance = float(balance)\n",
    "        trans_bal = transaction + balance\n",
    "    except:\n",
    "        print('Please enter a decimal value')\n",
    "    if trans_bal <= credit:\n",
    "        new_balance = balance + transaction\n",
    "        return True,  new_balance \n",
    "    else:\n",
    "        return False, balance\n",
    "def refund(balance, transaction):\n",
    "    try:\n",
    "        balance = float(balance)\n",
    "        transaction = float(transaction)\n",
    "        updated_balance = balance - transaction\n",
    "        return updated_balance\n",
    "    except:\n",
    "        print('Please enter a decimal value')\n",
    "def inquiry(cust_id, first_name,last_name, balance):\n",
    "    #INSERT CODE HERE\n",
    "    string = first_name + \" \" + last_name + \", your account \" + str(cust_id) + \" has a balance of \" + \"$\" + str(balance)\n",
    "    return string"
   ]
  },
  {
   "cell_type": "code",
   "execution_count": 204,
   "metadata": {},
   "outputs": [
    {
     "name": "stdout",
     "output_type": "stream",
     "text": [
      "Parsing through transactions...\n",
      "Anna Lee your account 105 had a previous balance of $465 and after your refund of $0 you now have a balance of $465.0\n",
      "Purchase for Customer 105 for amount of $10.0\n",
      "Anna Lee your account 105 had a previous balance of $465.0 a credit limit of $467 and your attempted purchase of $10 was declined.\n",
      "Frank Reynolds, your account 103 has a balance of $500\n",
      "Anna Lee, your account 105 has a balance of $465.0\n",
      "Dan Stan your account 108 had a previous balance of $200 and after your refund of $90 you now have a balance of $110.0\n",
      "Sid Sloth your account 109 had a previous balance of $450 and after your refund of $50 you now have a balance of $400.0\n",
      "Sid Sloth, your account 109 has a balance of $400.0\n",
      "Lee Vo, your account 102 has a balance of $40\n",
      "Lee Vo, your account 102 has a balance of $40\n",
      "Susie Brown, your account 101 has a balance of $0\n",
      "Purchase for Customer 104 for amount of $3000.0\n",
      "Matthew Rivera your account 104 had a previous balance of $390 and after your successful purchase of $3000 you have a balance of $3390.0\n",
      "Purchase for Customer 103 for amount of $10.0\n",
      "Frank Reynolds your account 103 had a previous balance of $500 and after your successful purchase of $10 you have a balance of $510.0\n",
      "Purchase for Customer 107 for amount of $1.0\n",
      "Loraine Regson your account 107 had a previous balance of $100 and after your successful purchase of $1 you have a balance of $101.0\n",
      "Purchase for Customer 107 for amount of $1000.0\n",
      "Loraine Regson your account 107 had a previous balance of $101.0 a credit limit of $1000 and your attempted purchase of $1000 was declined.\n",
      "Purchase for Customer 107 for amount of $800.0\n",
      "Loraine Regson your account 107 had a previous balance of $101.0 and after your successful purchase of $800 you have a balance of $901.0\n",
      "Bitter Melon, your account 106 has a balance of $809\n",
      "Bitter Melon your account 106 had a previous balance of $809 and after your refund of $0 you now have a balance of $809.0\n",
      "Bitter Melon, your account 106 has a balance of $809.0\n",
      "Matthew Rivera, your account 104 has a balance of $3390.0\n",
      "Matthew Rivera, your account 104 has a balance of $3390.0\n",
      "Matthew Rivera your account 104 had a previous balance of $3390.0 and after your refund of $0 you now have a balance of $3390.0\n",
      "Purchase for Customer 104 for amount of $0.0\n",
      "Matthew Rivera your account 104 had a previous balance of $3390.0 and after your successful purchase of $0 you have a balance of $3390.0\n",
      "Purchase for Customer 104 for amount of $10.0\n",
      "Matthew Rivera your account 104 had a previous balance of $3390.0 and after your successful purchase of $10 you have a balance of $3400.0\n",
      "John Smith, your account 100 has a balance of $90\n",
      "Susie Brown, your account 101 has a balance of $0\n",
      "Purchase for Customer 100 for amount of $1.0\n",
      "John Smith your account 100 had a previous balance of $90 and after your successful purchase of $1 you have a balance of $91.0\n",
      "Purchase for Customer 100 for amount of $1.0\n",
      "John Smith your account 100 had a previous balance of $91.0 and after your successful purchase of $1 you have a balance of $92.0\n",
      "Purchase for Customer 100 for amount of $20.0\n",
      "John Smith your account 100 had a previous balance of $92.0 and after your successful purchase of $20 you have a balance of $112.0\n",
      "Fuschia Winters, your account 110 has a balance of $300\n",
      "Fuschia Winters your account 110 had a previous balance of $300 and after your refund of $10 you now have a balance of $290.0\n",
      "Fuschia Winters your account 110 had a previous balance of $290.0 and after your refund of $100 you now have a balance of $190.0\n",
      "Your hash is 2118\n"
     ]
    }
   ],
   "source": [
    "run(customers, transactions, inquiry, new_purchase, refund)"
   ]
  },
  {
   "cell_type": "code",
   "execution_count": 205,
   "metadata": {},
   "outputs": [],
   "source": [
    "def inquiry(cust_id, first_name,last_name, balance):\n",
    "    string = first_name + \" \" + last_name + \", your account \" + str(cust_id) + \" has a balance of \" + \"$\" + str(balance)\n",
    "    return string"
   ]
  },
  {
   "cell_type": "code",
   "execution_count": 89,
   "metadata": {},
   "outputs": [
    {
     "data": {
      "text/plain": [
       "'Yusuf Cattaneo, your account 33 has a balance of $0.1'"
      ]
     },
     "execution_count": 89,
     "metadata": {},
     "output_type": "execute_result"
    }
   ],
   "source": [
    "inquiry(33, 'Yusuf', 'Cattaneo', 0.10)"
   ]
  },
  {
   "cell_type": "code",
   "execution_count": 44,
   "metadata": {},
   "outputs": [],
   "source": [
    "def new_purchase(balance, credit_limit, transaction):\n",
    "    ''' Checks if the transaction is greater than than the credit limit, returns the new balance if it is not greater\n",
    "    than the credit limit. Prints an error if it is greater than the credit limit. '''\n",
    "    try:\n",
    "        transaction = float(transaction)\n",
    "        credit_limit = float(credit_limit)\n",
    "        balance = float(balance)\n",
    "    except:\n",
    "        print('Please enter a decimal value')\n",
    "    if transaction < credit_limit:\n",
    "        new_balance = balance - transaction\n",
    "        return True, 'New Balance: ',new_balance \n",
    "    else:\n",
    "        return False,'Old Balance: ', balance\n",
    "    #INSERT CODE HERE"
   ]
  },
  {
   "cell_type": "code",
   "execution_count": 46,
   "metadata": {},
   "outputs": [
    {
     "data": {
      "text/plain": [
       "(False, 'Old Balance: ', 50.0)"
      ]
     },
     "execution_count": 46,
     "metadata": {},
     "output_type": "execute_result"
    }
   ],
   "source": [
    "new_purchase(50, 1000, 2000)"
   ]
  },
  {
   "cell_type": "code",
   "execution_count": 50,
   "metadata": {},
   "outputs": [],
   "source": [
    "def refund(balance, transaction):\n",
    "    ''' Subtracts the transaction amount from the balance. It is okay to go negative here.'''\n",
    "    #INSERT CODE HERE\n",
    "    try:\n",
    "        balance = float(balance)\n",
    "        transaction = float(transaction)\n",
    "        updated_balance = balance - transaction\n",
    "        return updated_balance\n",
    "    except:\n",
    "        print('Please enter a decimal value')"
   ]
  },
  {
   "cell_type": "code",
   "execution_count": 51,
   "metadata": {},
   "outputs": [
    {
     "name": "stdout",
     "output_type": "stream",
     "text": [
      "Please enter a decimal value\n"
     ]
    }
   ],
   "source": [
    "refund('Yusuf', 30)"
   ]
  },
  {
   "cell_type": "code",
   "execution_count": 195,
   "metadata": {},
   "outputs": [
    {
     "name": "stdout",
     "output_type": "stream",
     "text": [
      "(True, 109.0) 95.0 April Crompton, your account 123 has a balance of $20000000\n"
     ]
    }
   ],
   "source": [
    "np = new_purchase(100, 110, 9)\n",
    "rf = refund (100, 5)\n",
    "iq = inquiry(123, 'April', 'Crompton', '20000000')\n",
    "print(np, rf, iq)"
   ]
  },
  {
   "cell_type": "code",
   "execution_count": null,
   "metadata": {},
   "outputs": [],
   "source": [
    "(True, 109) 95 April Crompton, your account 123 has a balance of $20,000,000.0.\n"
   ]
  }
 ],
 "metadata": {
  "kernelspec": {
   "display_name": "Python 3",
   "language": "python",
   "name": "python3"
  },
  "language_info": {
   "codemirror_mode": {
    "name": "ipython",
    "version": 3
   },
   "file_extension": ".py",
   "mimetype": "text/x-python",
   "name": "python",
   "nbconvert_exporter": "python",
   "pygments_lexer": "ipython3",
   "version": "3.7.4"
  }
 },
 "nbformat": 4,
 "nbformat_minor": 4
}
